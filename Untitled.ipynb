{
 "cells": [
  {
   "cell_type": "code",
   "execution_count": 34,
   "id": "a748a6ac",
   "metadata": {},
   "outputs": [],
   "source": [
    "import pandas as pd\n",
    "from sklearn.model_selection import train_test_split\n",
    "from sklearn.linear_model import LinearRegression\n",
    "from sklearn.metrics import mean_squared_error"
   ]
  },
  {
   "cell_type": "code",
   "execution_count": 35,
   "id": "cd556f6e",
   "metadata": {},
   "outputs": [
    {
     "data": {
      "text/html": [
       "<div>\n",
       "<style scoped>\n",
       "    .dataframe tbody tr th:only-of-type {\n",
       "        vertical-align: middle;\n",
       "    }\n",
       "\n",
       "    .dataframe tbody tr th {\n",
       "        vertical-align: top;\n",
       "    }\n",
       "\n",
       "    .dataframe thead th {\n",
       "        text-align: right;\n",
       "    }\n",
       "</style>\n",
       "<table border=\"1\" class=\"dataframe\">\n",
       "  <thead>\n",
       "    <tr style=\"text-align: right;\">\n",
       "      <th></th>\n",
       "      <th>Price</th>\n",
       "      <th>Area</th>\n",
       "      <th>Location</th>\n",
       "      <th>No. of Bedrooms</th>\n",
       "      <th>Resale</th>\n",
       "      <th>MaintenanceStaff</th>\n",
       "      <th>Gymnasium</th>\n",
       "      <th>SwimmingPool</th>\n",
       "      <th>LandscapedGardens</th>\n",
       "      <th>JoggingTrack</th>\n",
       "      <th>...</th>\n",
       "      <th>LiftAvailable</th>\n",
       "      <th>BED</th>\n",
       "      <th>VaastuCompliant</th>\n",
       "      <th>Microwave</th>\n",
       "      <th>GolfCourse</th>\n",
       "      <th>TV</th>\n",
       "      <th>DiningTable</th>\n",
       "      <th>Sofa</th>\n",
       "      <th>Wardrobe</th>\n",
       "      <th>Refrigerator</th>\n",
       "    </tr>\n",
       "  </thead>\n",
       "  <tbody>\n",
       "    <tr>\n",
       "      <th>0</th>\n",
       "      <td>10500000</td>\n",
       "      <td>1200</td>\n",
       "      <td>Sector 10 Dwarka</td>\n",
       "      <td>2</td>\n",
       "      <td>1</td>\n",
       "      <td>0</td>\n",
       "      <td>1</td>\n",
       "      <td>0</td>\n",
       "      <td>0</td>\n",
       "      <td>1</td>\n",
       "      <td>...</td>\n",
       "      <td>1</td>\n",
       "      <td>0</td>\n",
       "      <td>1</td>\n",
       "      <td>0</td>\n",
       "      <td>0</td>\n",
       "      <td>0</td>\n",
       "      <td>0</td>\n",
       "      <td>0</td>\n",
       "      <td>0</td>\n",
       "      <td>0</td>\n",
       "    </tr>\n",
       "    <tr>\n",
       "      <th>1</th>\n",
       "      <td>6000000</td>\n",
       "      <td>1000</td>\n",
       "      <td>Uttam Nagar</td>\n",
       "      <td>3</td>\n",
       "      <td>0</td>\n",
       "      <td>0</td>\n",
       "      <td>0</td>\n",
       "      <td>0</td>\n",
       "      <td>0</td>\n",
       "      <td>0</td>\n",
       "      <td>...</td>\n",
       "      <td>0</td>\n",
       "      <td>0</td>\n",
       "      <td>0</td>\n",
       "      <td>0</td>\n",
       "      <td>0</td>\n",
       "      <td>0</td>\n",
       "      <td>0</td>\n",
       "      <td>0</td>\n",
       "      <td>0</td>\n",
       "      <td>0</td>\n",
       "    </tr>\n",
       "    <tr>\n",
       "      <th>2</th>\n",
       "      <td>15000000</td>\n",
       "      <td>1350</td>\n",
       "      <td>Sarita Vihar</td>\n",
       "      <td>2</td>\n",
       "      <td>1</td>\n",
       "      <td>0</td>\n",
       "      <td>0</td>\n",
       "      <td>0</td>\n",
       "      <td>0</td>\n",
       "      <td>0</td>\n",
       "      <td>...</td>\n",
       "      <td>0</td>\n",
       "      <td>0</td>\n",
       "      <td>0</td>\n",
       "      <td>0</td>\n",
       "      <td>0</td>\n",
       "      <td>0</td>\n",
       "      <td>0</td>\n",
       "      <td>0</td>\n",
       "      <td>0</td>\n",
       "      <td>0</td>\n",
       "    </tr>\n",
       "    <tr>\n",
       "      <th>3</th>\n",
       "      <td>2500000</td>\n",
       "      <td>435</td>\n",
       "      <td>Uttam Nagar</td>\n",
       "      <td>2</td>\n",
       "      <td>0</td>\n",
       "      <td>0</td>\n",
       "      <td>0</td>\n",
       "      <td>0</td>\n",
       "      <td>0</td>\n",
       "      <td>0</td>\n",
       "      <td>...</td>\n",
       "      <td>0</td>\n",
       "      <td>0</td>\n",
       "      <td>1</td>\n",
       "      <td>0</td>\n",
       "      <td>0</td>\n",
       "      <td>0</td>\n",
       "      <td>0</td>\n",
       "      <td>0</td>\n",
       "      <td>0</td>\n",
       "      <td>0</td>\n",
       "    </tr>\n",
       "    <tr>\n",
       "      <th>4</th>\n",
       "      <td>5800000</td>\n",
       "      <td>900</td>\n",
       "      <td>Dwarka Mor</td>\n",
       "      <td>3</td>\n",
       "      <td>0</td>\n",
       "      <td>0</td>\n",
       "      <td>0</td>\n",
       "      <td>0</td>\n",
       "      <td>0</td>\n",
       "      <td>0</td>\n",
       "      <td>...</td>\n",
       "      <td>1</td>\n",
       "      <td>0</td>\n",
       "      <td>0</td>\n",
       "      <td>0</td>\n",
       "      <td>0</td>\n",
       "      <td>0</td>\n",
       "      <td>0</td>\n",
       "      <td>0</td>\n",
       "      <td>0</td>\n",
       "      <td>0</td>\n",
       "    </tr>\n",
       "  </tbody>\n",
       "</table>\n",
       "<p>5 rows × 40 columns</p>\n",
       "</div>"
      ],
      "text/plain": [
       "      Price  Area          Location  No. of Bedrooms  Resale  \\\n",
       "0  10500000  1200  Sector 10 Dwarka                2       1   \n",
       "1   6000000  1000       Uttam Nagar                3       0   \n",
       "2  15000000  1350      Sarita Vihar                2       1   \n",
       "3   2500000   435       Uttam Nagar                2       0   \n",
       "4   5800000   900        Dwarka Mor                3       0   \n",
       "\n",
       "   MaintenanceStaff  Gymnasium  SwimmingPool  LandscapedGardens  JoggingTrack  \\\n",
       "0                 0          1             0                  0             1   \n",
       "1                 0          0             0                  0             0   \n",
       "2                 0          0             0                  0             0   \n",
       "3                 0          0             0                  0             0   \n",
       "4                 0          0             0                  0             0   \n",
       "\n",
       "   ...  LiftAvailable  BED  VaastuCompliant  Microwave  GolfCourse  TV  \\\n",
       "0  ...              1    0                1          0           0   0   \n",
       "1  ...              0    0                0          0           0   0   \n",
       "2  ...              0    0                0          0           0   0   \n",
       "3  ...              0    0                1          0           0   0   \n",
       "4  ...              1    0                0          0           0   0   \n",
       "\n",
       "   DiningTable  Sofa  Wardrobe  Refrigerator  \n",
       "0            0     0         0             0  \n",
       "1            0     0         0             0  \n",
       "2            0     0         0             0  \n",
       "3            0     0         0             0  \n",
       "4            0     0         0             0  \n",
       "\n",
       "[5 rows x 40 columns]"
      ]
     },
     "execution_count": 35,
     "metadata": {},
     "output_type": "execute_result"
    }
   ],
   "source": [
    "data = pd.read_csv('Delhi.csv')\n",
    "data.head()"
   ]
  },
  {
   "cell_type": "code",
   "execution_count": 36,
   "id": "8ef97ef9",
   "metadata": {},
   "outputs": [
    {
     "data": {
      "text/plain": [
       "Index(['Price', 'Area', 'Location', 'No. of Bedrooms', 'Resale',\n",
       "       'MaintenanceStaff', 'Gymnasium', 'SwimmingPool', 'LandscapedGardens',\n",
       "       'JoggingTrack', 'RainWaterHarvesting', 'IndoorGames', 'ShoppingMall',\n",
       "       'Intercom', 'SportsFacility', 'ATM', 'ClubHouse', 'School',\n",
       "       '24X7Security', 'PowerBackup', 'CarParking', 'StaffQuarter',\n",
       "       'Cafeteria', 'MultipurposeRoom', 'Hospital', 'WashingMachine',\n",
       "       'Gasconnection', 'AC', 'Wifi', 'Children'splayarea', 'LiftAvailable',\n",
       "       'BED', 'VaastuCompliant', 'Microwave', 'GolfCourse', 'TV',\n",
       "       'DiningTable', 'Sofa', 'Wardrobe', 'Refrigerator'],\n",
       "      dtype='object')"
      ]
     },
     "execution_count": 36,
     "metadata": {},
     "output_type": "execute_result"
    }
   ],
   "source": [
    "data.columns"
   ]
  },
  {
   "cell_type": "code",
   "execution_count": 37,
   "id": "7c48ca71",
   "metadata": {},
   "outputs": [
    {
     "name": "stdout",
     "output_type": "stream",
     "text": [
      "<class 'pandas.core.frame.DataFrame'>\n",
      "RangeIndex: 4998 entries, 0 to 4997\n",
      "Data columns (total 40 columns):\n",
      " #   Column               Non-Null Count  Dtype \n",
      "---  ------               --------------  ----- \n",
      " 0   Price                4998 non-null   int64 \n",
      " 1   Area                 4998 non-null   int64 \n",
      " 2   Location             4998 non-null   object\n",
      " 3   No. of Bedrooms      4998 non-null   int64 \n",
      " 4   Resale               4998 non-null   int64 \n",
      " 5   MaintenanceStaff     4998 non-null   int64 \n",
      " 6   Gymnasium            4998 non-null   int64 \n",
      " 7   SwimmingPool         4998 non-null   int64 \n",
      " 8   LandscapedGardens    4998 non-null   int64 \n",
      " 9   JoggingTrack         4998 non-null   int64 \n",
      " 10  RainWaterHarvesting  4998 non-null   int64 \n",
      " 11  IndoorGames          4998 non-null   int64 \n",
      " 12  ShoppingMall         4998 non-null   int64 \n",
      " 13  Intercom             4998 non-null   int64 \n",
      " 14  SportsFacility       4998 non-null   int64 \n",
      " 15  ATM                  4998 non-null   int64 \n",
      " 16  ClubHouse            4998 non-null   int64 \n",
      " 17  School               4998 non-null   int64 \n",
      " 18  24X7Security         4998 non-null   int64 \n",
      " 19  PowerBackup          4998 non-null   int64 \n",
      " 20  CarParking           4998 non-null   int64 \n",
      " 21  StaffQuarter         4998 non-null   int64 \n",
      " 22  Cafeteria            4998 non-null   int64 \n",
      " 23  MultipurposeRoom     4998 non-null   int64 \n",
      " 24  Hospital             4998 non-null   int64 \n",
      " 25  WashingMachine       4998 non-null   int64 \n",
      " 26  Gasconnection        4998 non-null   int64 \n",
      " 27  AC                   4998 non-null   int64 \n",
      " 28  Wifi                 4998 non-null   int64 \n",
      " 29  Children'splayarea   4998 non-null   int64 \n",
      " 30  LiftAvailable        4998 non-null   int64 \n",
      " 31  BED                  4998 non-null   int64 \n",
      " 32  VaastuCompliant      4998 non-null   int64 \n",
      " 33  Microwave            4998 non-null   int64 \n",
      " 34  GolfCourse           4998 non-null   int64 \n",
      " 35  TV                   4998 non-null   int64 \n",
      " 36  DiningTable          4998 non-null   int64 \n",
      " 37  Sofa                 4998 non-null   int64 \n",
      " 38  Wardrobe             4998 non-null   int64 \n",
      " 39  Refrigerator         4998 non-null   int64 \n",
      "dtypes: int64(39), object(1)\n",
      "memory usage: 1.5+ MB\n"
     ]
    }
   ],
   "source": [
    "data.info()"
   ]
  },
  {
   "cell_type": "code",
   "execution_count": 38,
   "id": "35cdfc74",
   "metadata": {},
   "outputs": [],
   "source": [
    "# Drop the 'Location' column as it is categorical\n",
    "data = data.drop('Location', axis=1)\n",
    "\n",
    "# Perform one-hot encoding on the categorical variables\n",
    "data_encoded = pd.get_dummies(data)\n",
    "\n",
    "# Split the data into features (X) and target variable (y)\n",
    "X = data_encoded.drop('Price', axis=1)\n",
    "y = data_encoded['Price']"
   ]
  },
  {
   "cell_type": "code",
   "execution_count": 39,
   "id": "7089581a",
   "metadata": {},
   "outputs": [],
   "source": [
    "X_train, X_test, y_train, y_test = train_test_split(X,y, test_size=0.2, random_state=42)"
   ]
  },
  {
   "cell_type": "code",
   "execution_count": 40,
   "id": "13f26f69",
   "metadata": {},
   "outputs": [
    {
     "data": {
      "text/plain": [
       "DecisionTreeRegressor()"
      ]
     },
     "execution_count": 40,
     "metadata": {},
     "output_type": "execute_result"
    }
   ],
   "source": [
    "model = DecisionTreeRegressor()\n",
    "model.fit(X_train, y_train)"
   ]
  },
  {
   "cell_type": "code",
   "execution_count": 49,
   "id": "f558622f",
   "metadata": {},
   "outputs": [
    {
     "name": "stdout",
     "output_type": "stream",
     "text": [
      "Enter the area of the house: 1491\n",
      "Enter the number of bedrooms: 3\n"
     ]
    }
   ],
   "source": [
    "# Ask for information about the house\n",
    "area = float(input(\"Enter the area of the house: \"))\n",
    "bedrooms = int(input(\"Enter the number of bedrooms: \"))"
   ]
  },
  {
   "cell_type": "code",
   "execution_count": 50,
   "id": "593810b1",
   "metadata": {},
   "outputs": [],
   "source": [
    "# Create a dictionary with the input values\n",
    "input_data = {\n",
    "    'Area': [area],\n",
    "    'No. of Bedrooms': [bedrooms]\n",
    "}"
   ]
  },
  {
   "cell_type": "code",
   "execution_count": 51,
   "id": "4076b27c",
   "metadata": {},
   "outputs": [
    {
     "name": "stdout",
     "output_type": "stream",
     "text": [
      "Predicted Price: ₹ 10000000.0\n"
     ]
    }
   ],
   "source": [
    "# Create a dataframe from the input data\n",
    "input_df = pd.DataFrame(input_data)\n",
    "\n",
    "# Perform one-hot encoding on the input dataframe\n",
    "input_encoded = pd.get_dummies(input_df)\n",
    "\n",
    "# Align the input dataframe with the training data columns\n",
    "input_aligned = input_encoded.reindex(columns=X.columns, fill_value=0)\n",
    "\n",
    "# Make the price prediction\n",
    "predicted_price = model.predict(input_aligned)\n",
    "\n",
    "print(\"Predicted Price: ₹\", predicted_price[0])"
   ]
  },
  {
   "cell_type": "code",
   "execution_count": 48,
   "id": "6a46e8fe",
   "metadata": {},
   "outputs": [
    {
     "name": "stdout",
     "output_type": "stream",
     "text": [
      "Root Mean Squared Error: 47146669.4788712\n"
     ]
    }
   ],
   "source": [
    "# Evaluate the model's performance\n",
    "mse = mean_squared_error(y_test, y_pred)\n",
    "rmse = np.sqrt(mse)\n",
    "print(\"Root Mean Squared Error:\", rmse)"
   ]
  },
  {
   "cell_type": "code",
   "execution_count": null,
   "id": "c8d21334",
   "metadata": {},
   "outputs": [],
   "source": []
  }
 ],
 "metadata": {
  "kernelspec": {
   "display_name": "Python 3 (ipykernel)",
   "language": "python",
   "name": "python3"
  },
  "language_info": {
   "codemirror_mode": {
    "name": "ipython",
    "version": 3
   },
   "file_extension": ".py",
   "mimetype": "text/x-python",
   "name": "python",
   "nbconvert_exporter": "python",
   "pygments_lexer": "ipython3",
   "version": "3.9.13"
  }
 },
 "nbformat": 4,
 "nbformat_minor": 5
}
